{
 "cells": [
  {
   "cell_type": "code",
   "execution_count": null,
   "metadata": {},
   "outputs": [],
   "source": [
    "df.columns\n",
    "\n",
    "X = df.drop(axis=1, columns=[\"Dalc\", \"Walc\", \"fam_metrics\"])\n",
    "y = df[\"student_drinker\"]\n",
    "\n",
    "y.value_counts()\n",
    "\n",
    "### Train/Test Split, Baseline Accuracy\n",
    "\n",
    "X_train, X_test, y_train, y_test = train_test_split(X,\n",
    "                                                    y, \n",
    "                                                    test_size=0.33,\n",
    "                                                    stratify=y,\n",
    "                                                    random_state=42)\n",
    "\n",
    "y_test.value_counts(normalize=True)\n",
    "\n",
    "### Linear Regression\n",
    "\n",
    "linreg_grade_pipe = Pipeline([\n",
    "    (\"ss\", StandardScaler()),\n",
    "    (\"linreg\", LinearRegression())\n",
    "])\n",
    "\n",
    "linreg_grade_pipe.fit(X_train, y_train);\n",
    "\n",
    "linreg.coef_\n",
    "\n",
    "linreg.intercept_\n",
    "\n",
    "preds = np.exp(linreg.predict(X_test))\n",
    "\n",
    "resids = y_test - preds\n",
    "\n",
    "print(f\"Train: {linreg.score(X_train, y_train)}\")\n",
    "print(f\"Test: {linreg.score(X_test, y_test)}\\n\")\n",
    "print(f\"RMSE = {np.sqrt(mean_squared_error(y_test, preds))}\")\n",
    "# print(f\"R2 = {linreg.score(X, y)}\")"
   ]
  }
 ],
 "metadata": {
  "kernelspec": {
   "display_name": "Python 3",
   "language": "python",
   "name": "python3"
  },
  "language_info": {
   "codemirror_mode": {
    "name": "ipython",
    "version": 3
   },
   "file_extension": ".py",
   "mimetype": "text/x-python",
   "name": "python",
   "nbconvert_exporter": "python",
   "pygments_lexer": "ipython3",
   "version": "3.7.6"
  },
  "toc": {
   "base_numbering": 1,
   "nav_menu": {},
   "number_sections": true,
   "sideBar": true,
   "skip_h1_title": false,
   "title_cell": "Table of Contents",
   "title_sidebar": "Contents",
   "toc_cell": false,
   "toc_position": {},
   "toc_section_display": true,
   "toc_window_display": false
  }
 },
 "nbformat": 4,
 "nbformat_minor": 4
}
